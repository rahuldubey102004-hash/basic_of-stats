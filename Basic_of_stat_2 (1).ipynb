{
  "nbformat": 4,
  "nbformat_minor": 0,
  "metadata": {
    "colab": {
      "provenance": []
    },
    "kernelspec": {
      "name": "python3",
      "display_name": "Python 3"
    },
    "language_info": {
      "name": "python"
    }
  },
  "cells": [
    {
      "cell_type": "markdown",
      "source": [
        "Basic of stat 2"
      ],
      "metadata": {
        "id": "-15vM5a-pZbv"
      }
    },
    {
      "cell_type": "code",
      "source": [
        "#Confidence Interval."
      ],
      "metadata": {
        "id": "RFddwHwhrLNi"
      },
      "execution_count": 28,
      "outputs": []
    },
    {
      "cell_type": "markdown",
      "source": [
        "Estimation And Confidence Intervals\n",
        "\n",
        "Background\n",
        "\n",
        "\n",
        "\n",
        "\n",
        "In quality control processes, especially when dealing with high-value items, destructive sampling is a necessary but costly method to ensure product quality. The test to determine whether an item meets the quality standards destroys the item, leading to the requirement of small sample sizes due to cost constraints.\n",
        "\n",
        "\n",
        "\n",
        "Scenario\n",
        "\n",
        "\n",
        "\n",
        "\n",
        "A manufacturer of print-heads for personal computers is interested in estimating the mean durability of their print-heads in terms of the number of characters printed before failure. To assess this, the manufacturer conducts a study on a small sample of print-heads due to the destructive nature of the testing process.\n"
      ],
      "metadata": {
        "id": "glhjHWn9rLyz"
      }
    },
    {
      "cell_type": "markdown",
      "source": [
        "Data\n",
        "A total of 15 print-heads were randomly selected and tested until failure. The durability of each print-head (in millions of characters) was recorded as follows:\n",
        "1.13, 1.55, 1.43, 0.92, 1.25, 1.36, 1.32, 0.85, 1.07, 1.48, 1.20, 1.33, 1.18, 1.22, 1.29\n",
        "\n"
      ],
      "metadata": {
        "id": "EyWCI5sujwhz"
      }
    },
    {
      "cell_type": "code",
      "source": [
        "import numpy as np\n",
        "from scipy import stats\n",
        "import matplotlib.pyplot as plt\n"
      ],
      "metadata": {
        "id": "C-uJ9JRBkCRS"
      },
      "execution_count": null,
      "outputs": []
    },
    {
      "cell_type": "code",
      "source": [
        "#Data and summary statistics\n",
        "# -----------------------------\n",
        "data = [1.13, 1.55, 1.43, 0.92, 1.25,\n",
        "        1.36, 1.32, 0.85, 1.07, 1.48,\n",
        "        1.20, 1.33, 1.18, 1.22, 1.29]"
      ],
      "metadata": {
        "id": "yXKbenX3kCTN"
      },
      "execution_count": null,
      "outputs": []
    },
    {
      "cell_type": "code",
      "source": [
        "\n",
        "n = len(data) # sample size"
      ],
      "metadata": {
        "id": "pmENzADmkCVl"
      },
      "execution_count": null,
      "outputs": []
    },
    {
      "cell_type": "code",
      "source": [
        "mean = np.mean(data)   # sample mean"
      ],
      "metadata": {
        "id": "wJSOwfEbkCX6"
      },
      "execution_count": null,
      "outputs": []
    },
    {
      "cell_type": "code",
      "source": [
        "s = np.std(data, ddof=1)   # sample standard deviation (ddof=1 -> sample)"
      ],
      "metadata": {
        "id": "S1TciUBxkCZk"
      },
      "execution_count": null,
      "outputs": []
    },
    {
      "cell_type": "code",
      "source": [
        "sigma = 0.2                          # known population SD (for part b)\n",
        "alpha = 0.01                         # 99% confidence level → α=0.01"
      ],
      "metadata": {
        "id": "eLumB6TJkCbj"
      },
      "execution_count": null,
      "outputs": []
    },
    {
      "cell_type": "code",
      "source": [
        "print(\"Sample size (n):\", n)\n",
        "print(\"Sample mean:\", round(mean, 3))\n",
        "print(\"Sample standard deviation (s):\", round(s, 3))\n"
      ],
      "metadata": {
        "colab": {
          "base_uri": "https://localhost:8080/"
        },
        "id": "3e783IEYkCd6",
        "outputId": "2490814c-5021-4787-bedd-74f89d204499"
      },
      "execution_count": null,
      "outputs": [
        {
          "output_type": "stream",
          "name": "stdout",
          "text": [
            "Sample size (n): 15\n",
            "Sample mean: 1.239\n",
            "Sample standard deviation (s): 0.193\n"
          ]
        }
      ]
    },
    {
      "cell_type": "markdown",
      "source": [
        "Step 2: 99% CI using sample SD (t-distribution) → Part (a)\n",
        "a. Build 99% Confidence Interval Using Sample Standard Deviation\n",
        "Assuming the sample is representative of the population, construct a 99% confidence interval for the mean number of characters printed before the print-head fails using the sample standard deviation. Explain the steps you take and the rationale behind using the t-distribution for this task.\n"
      ],
      "metadata": {
        "id": "ZpDTrhLXlbjx"
      }
    },
    {
      "cell_type": "code",
      "source": [
        "df = n - 1"
      ],
      "metadata": {
        "id": "eM6QLB_nkCi1"
      },
      "execution_count": null,
      "outputs": []
    },
    {
      "cell_type": "code",
      "source": [
        "t_value = stats.t.ppf(1 - alpha/2, df)      # critical t-value"
      ],
      "metadata": {
        "id": "4smqJLZNkCld"
      },
      "execution_count": null,
      "outputs": []
    },
    {
      "cell_type": "code",
      "source": [
        "se_t = s / np.sqrt(n)                       # standard error"
      ],
      "metadata": {
        "id": "bJygRJvHkCnh"
      },
      "execution_count": null,
      "outputs": []
    },
    {
      "cell_type": "code",
      "source": [
        "margin_t = t_value * se_t                   # margin of error"
      ],
      "metadata": {
        "id": "C6fjlX5AkCqG"
      },
      "execution_count": null,
      "outputs": []
    },
    {
      "cell_type": "code",
      "source": [
        "ci_t = (mean - margin_t, mean + margin_t)"
      ],
      "metadata": {
        "id": "LdPwU1BikCsr"
      },
      "execution_count": null,
      "outputs": []
    },
    {
      "cell_type": "code",
      "source": [
        "print(\"\\n(a) 99% Confidence Interval using sample SD (t-distribution):\")\n",
        "print(\"CI =\", tuple(round(x, 3) for x in ci_t))"
      ],
      "metadata": {
        "colab": {
          "base_uri": "https://localhost:8080/"
        },
        "id": "QzYvNMlFkCvF",
        "outputId": "ed83b4be-06f9-4dd6-a4d7-d2b2e0aef70d"
      },
      "execution_count": null,
      "outputs": [
        {
          "output_type": "stream",
          "name": "stdout",
          "text": [
            "\n",
            "(a) 99% Confidence Interval using sample SD (t-distribution):\n",
            "CI = (np.float64(1.09), np.float64(1.387))\n"
          ]
        }
      ]
    },
    {
      "cell_type": "markdown",
      "source": [
        "step of avove concept\n",
        "Part (a) – Using sample SD:\n",
        "\n",
        "Population SD is unknown, sample size is small → use t-distribution.\n",
        "\n",
        "Sample mean ≈ 1.239, sample SD ≈ 0.193.\n",
        "\n",
        "99% CI = (1.090, 1.387) million characters.\n",
        "\n",
        "Wider interval reflects extra uncertainty from estimating SD."
      ],
      "metadata": {
        "id": "-DHtFuz4qKwD"
      }
    },
    {
      "cell_type": "markdown",
      "source": [
        "# Step 3:\n",
        "99% CI using known σ = 0.2 (z-distribution) → Part (b)\n",
        ". Build 99% Confidence Interval Using Known Population Standard Deviation\n",
        "If it were known that the population standard deviation is 0.2 million characters, construct a 99% confidence interval for the mean number of characters printed before failure.\n"
      ],
      "metadata": {
        "id": "7OVa5ENmmwce"
      }
    },
    {
      "cell_type": "code",
      "source": [
        "z_value = stats.norm.ppf(1 - alpha/2)       # critical z-value\n",
        "se_z = sigma / np.sqrt(n)                   # standard error\n",
        "margin_z = z_value * se_z\n",
        "ci_z = (mean - margin_z, mean + margin_z)\n",
        "print(\"\\n(b) 99% Confidence Interval using known σ=0.2 (z-distribution):\")\n",
        "print(\"CI =\", tuple(round(x, 3) for x in ci_z))\n",
        "\n"
      ],
      "metadata": {
        "colab": {
          "base_uri": "https://localhost:8080/"
        },
        "id": "eoaDFWyjkCzx",
        "outputId": "4086564a-fe5b-4bde-af55-c2ddaefe4842"
      },
      "execution_count": null,
      "outputs": [
        {
          "output_type": "stream",
          "name": "stdout",
          "text": [
            "\n",
            "(b) 99% Confidence Interval using known σ=0.2 (z-distribution):\n",
            "CI = (np.float64(1.106), np.float64(1.372))\n"
          ]
        }
      ]
    },
    {
      "cell_type": "markdown",
      "source": [
        "Part (b) – Using known population SD:\n",
        "\n",
        "Population SD σ = 0.2 is known → use z-distribution.\n",
        "\n",
        "99% CI = (1.106, 1.372) million characters.\n",
        "\n",
        "Slightly narrower than t-based interval because σ is known.\n",
        "\n",
        "Interpretation:\n",
        "We are 99% confident that the true mean durability of print-heads is between 1.09–1.39 million characters (t-based) or 1.11–1.37 million characters (z-based)."
      ],
      "metadata": {
        "id": "-qe5kkGdqZ53"
      }
    },
    {
      "cell_type": "markdown",
      "source": [
        " #Step 4: Plot mean and both confidence intervals\n"
      ],
      "metadata": {
        "id": "jXLVIoANoQEB"
      }
    },
    {
      "cell_type": "code",
      "source": [
        "\n",
        "plt.figure(figsize=(7,4))\n"
      ],
      "metadata": {
        "colab": {
          "base_uri": "https://localhost:8080/",
          "height": 52
        },
        "id": "nRNyAE4kkC2R",
        "outputId": "c18ff2d0-52f6-40c4-bc77-77c434e3e1a7"
      },
      "execution_count": null,
      "outputs": [
        {
          "output_type": "execute_result",
          "data": {
            "text/plain": [
              "<Figure size 700x400 with 0 Axes>"
            ]
          },
          "metadata": {},
          "execution_count": 24
        },
        {
          "output_type": "display_data",
          "data": {
            "text/plain": [
              "<Figure size 700x400 with 0 Axes>"
            ]
          },
          "metadata": {}
        }
      ]
    },
    {
      "cell_type": "code",
      "source": [
        "# Mean line\n",
        "plt.axvline(mean, color='black', linestyle='--', label=f\"Mean = {mean:.3f}\")"
      ],
      "metadata": {
        "colab": {
          "base_uri": "https://localhost:8080/",
          "height": 452
        },
        "id": "H4j_vPh5kC5H",
        "outputId": "fa4a46b6-0f9d-4b49-b30f-f724b14da711"
      },
      "execution_count": null,
      "outputs": [
        {
          "output_type": "execute_result",
          "data": {
            "text/plain": [
              "<matplotlib.lines.Line2D at 0x7a794d5adfd0>"
            ]
          },
          "metadata": {},
          "execution_count": 20
        },
        {
          "output_type": "display_data",
          "data": {
            "text/plain": [
              "<Figure size 640x480 with 1 Axes>"
            ],
            "image/png": "[encoded data removed]"
          },
          "metadata": {}
        }
      ]
    },
    {
      "cell_type": "code",
      "source": [
        "# CI with t-distribution\n",
        "plt.errorbar(mean, 1, xerr=[[mean-ci_t[0]], [ci_t[1]-mean]],\n",
        "             fmt='o', color='blue', label=\"99% CI (t-based)\")\n"
      ],
      "metadata": {
        "colab": {
          "base_uri": "https://localhost:8080/",
          "height": 447
        },
        "id": "YZ61RldukC8C",
        "outputId": "c439221d-5b9e-4bef-da12-2e54f6726432"
      },
      "execution_count": null,
      "outputs": [
        {
          "output_type": "execute_result",
          "data": {
            "text/plain": [
              "<ErrorbarContainer object of 3 artists>"
            ]
          },
          "metadata": {},
          "execution_count": 21
        },
        {
          "output_type": "display_data",
          "data": {
            "text/plain": [
              "<Figure size 640x480 with 1 Axes>"
            ],
            "image/png": "[encoded data removed]"
          },
          "metadata": {}
        }
      ]
    },
    {
      "cell_type": "code",
      "source": [
        "# CI with z-distribution\n",
        "plt.errorbar(mean, 0.8, xerr=[[mean-ci_z[0]], [ci_z[1]-mean]],\n",
        "             fmt='o', color='red', label=\"99% CI (z-based, σ=0.2)\")\n"
      ],
      "metadata": {
        "colab": {
          "base_uri": "https://localhost:8080/",
          "height": 447
        },
        "id": "5RTgU3umkC-D",
        "outputId": "36dc457f-0bd6-46a7-d995-6e5a29eb7d0d"
      },
      "execution_count": null,
      "outputs": [
        {
          "output_type": "execute_result",
          "data": {
            "text/plain": [
              "<ErrorbarContainer object of 3 artists>"
            ]
          },
          "metadata": {},
          "execution_count": 22
        },
        {
          "output_type": "display_data",
          "data": {
            "text/plain": [
              "<Figure size 640x480 with 1 Axes>"
            ],
            "image/png": "[encoded data removed]"
          },
          "metadata": {}
        }
      ]
    },
    {
      "cell_type": "code",
      "source": [
        "plt.yticks([1, 0.8], [\"t-distribution\", \"z-distribution\"])\n",
        "plt.xlabel(\"Durability (millions of characters)\")\n",
        "plt.title(\"99% Confidence Intervals for Print-head Durability\")\n",
        "plt.legend()\n",
        "plt.grid(True, linestyle='--', alpha=0.6)\n",
        "plt.show()"
      ],
      "metadata": {
        "colab": {
          "base_uri": "https://localhost:8080/",
          "height": 527
        },
        "id": "IrH6CiU5kDAR",
        "outputId": "6e4de71f-d794-4df3-921d-f0988fd45045"
      },
      "execution_count": null,
      "outputs": [
        {
          "output_type": "stream",
          "name": "stderr",
          "text": [
            "/tmp/ipython-input-399554803.py:4: UserWarning: No artists with labels found to put in legend.  Note that artists whose label start with an underscore are ignored when legend() is called with no argument.\n",
            "  plt.legend()\n"
          ]
        },
        {
          "output_type": "display_data",
          "data": {
            "text/plain": [
              "<Figure size 640x480 with 1 Axes>"
            ],
            "image/png": "[encoded data removed]"
          },
          "metadata": {}
        }
      ]
    },
    {
      "cell_type": "markdown",
      "source": [
        "Sample mean: ≈ 1.239\n",
        "\n",
        "Sample SD: ≈ 0.193\n",
        "\n",
        "(a) Using sample SD (t-distribution, df=14):\n",
        "👉 CI = (1.090, 1.387)\n",
        "\n",
        "(b) Using known σ = 0.2 (z-distribution):\n",
        "👉 CI = (1.106, 1.372)"
      ],
      "metadata": {
        "id": "CGQOijdfo68J"
      }
    },
    {
      "cell_type": "code",
      "source": [],
      "metadata": {
        "id": "ib9-qrBJkDKK"
      },
      "execution_count": null,
      "outputs": []
    },
    {
      "cell_type": "code",
      "source": [],
      "metadata": {
        "id": "quQs0_NVkDM8"
      },
      "execution_count": null,
      "outputs": []
    },
    {
      "cell_type": "code",
      "source": [],
      "metadata": {
        "id": "vN_o956_kDPV"
      },
      "execution_count": null,
      "outputs": []
    },
    {
      "cell_type": "code",
      "source": [],
      "metadata": {
        "id": "bjsPUKRHkDSO"
      },
      "execution_count": null,
      "outputs": []
    },
    {
      "cell_type": "code",
      "source": [],
      "metadata": {
        "id": "IoWqxOfOkDUg"
      },
      "execution_count": null,
      "outputs": []
    },
    {
      "cell_type": "code",
      "source": [],
      "metadata": {
        "id": "fIJK3hx5kDXE"
      },
      "execution_count": null,
      "outputs": []
    },
    {
      "cell_type": "code",
      "source": [],
      "metadata": {
        "id": "bpxGAx0MkDah"
      },
      "execution_count": null,
      "outputs": []
    }
  ]
}